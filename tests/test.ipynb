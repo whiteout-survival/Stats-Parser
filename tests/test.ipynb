{
 "cells": [
  {
   "cell_type": "code",
   "execution_count": null,
   "id": "e1143b92",
   "metadata": {},
   "outputs": [],
   "source": [
    "import easyocr\n",
    "import cv2\n",
    "import numpy as np\n",
    "import os\n",
    "\n",
    "if os.getcwd().endswith(\"tests\"):\n",
    "    os.chdir(\"..\")\n",
    "from src.utils import convert_to_stats  # noqa: E402\n",
    "\n",
    "reader = easyocr.Reader(['en']) # 'en' for English\n"
   ]
  },
  {
   "cell_type": "code",
   "execution_count": null,
   "id": "2598bd73",
   "metadata": {},
   "outputs": [],
   "source": [
    "image_path = \"images/minime/1.png\"\n",
    "img = np.array(cv2.imread(image_path))\n",
    "\n",
    "# # Result format: [bbox, text, confidence]\n",
    "results = reader.readtext(img)\n",
    "\n",
    "for (bbox, text, prob) in results:\n",
    "    print(f\"Text: {text}, Confidence: {prob:.2f}, BBox: {bbox}\")\n"
   ]
  },
  {
   "cell_type": "code",
   "execution_count": null,
   "id": "9f916c04",
   "metadata": {},
   "outputs": [],
   "source": [
    "import matplotlib.pyplot as plt\n",
    "import matplotlib.patches as patches\n"
   ]
  },
  {
   "cell_type": "code",
   "execution_count": null,
   "id": "6042ca1b",
   "metadata": {},
   "outputs": [],
   "source": [
    "\n",
    "\n",
    "inflated_img = cv2.resize(img, None, fx=4, fy=4, interpolation=cv2.INTER_LINEAR)\n",
    "img_rgb = cv2.cvtColor(inflated_img, cv2.COLOR_BGR2RGB)\n",
    "\n",
    "scale_factor = 4\n",
    "height, width, _ = img_rgb.shape\n",
    "dpi = 500\n",
    "fig_width = width / dpi\n",
    "fig_height = height / dpi\n",
    "\n",
    "fig, ax = plt.subplots(1, figsize=(fig_width, fig_height))\n",
    "ax.imshow(img_rgb)\n",
    "\n",
    "\n",
    "\n",
    "for (bbox, text, prob) in results:\n",
    "    # Scale the bbox coordinates\n",
    "    scaled_bbox = []\n",
    "    for point in bbox:\n",
    "        scaled_bbox.append([point[0] * scale_factor, point[1] * scale_factor])\n",
    "\n",
    "    x_coords = [point[0] for point in scaled_bbox]\n",
    "    y_coords = [point[1] for point in scaled_bbox]\n",
    "\n",
    "    x = min(x_coords)\n",
    "    y = min(y_coords)\n",
    "    width = max(x_coords) - min(x_coords)\n",
    "    height = max(y_coords) - min(y_coords)\n",
    "\n",
    "    # Create a Rectangle patch\n",
    "    rect = patches.Rectangle((x, y), width, height,\n",
    "                                linewidth=2, edgecolor='r', facecolor='none')\n",
    "\n",
    "    # Add the rectangle to the axes\n",
    "    ax.add_patch(rect)\n",
    "\n",
    "    # Add the text and confidence score\n",
    "    # Adjust text position based on scaled coordinates\n",
    "    ax.text(x, y - 10, f\"{text} (Prob: {prob:.2f})\",\n",
    "            color='blue', fontsize=8, bbox=dict(facecolor='yellow', alpha=0.5))\n",
    "            # You might want to scale fontsize as well for readability on a larger image\n",
    "            # Or adjust it manually based on what looks good\n",
    "# Hide the axes ticks\n",
    "ax.set_xticks([])\n",
    "ax.set_yticks([])\n",
    "\n",
    "# Display the image with annotations\n",
    "plt.show()\n"
   ]
  },
  {
   "cell_type": "code",
   "execution_count": null,
   "id": "fd871d4e",
   "metadata": {},
   "outputs": [],
   "source": [
    "stats = convert_to_stats(results)\n",
    "print(stats)\n"
   ]
  },
  {
   "cell_type": "code",
   "execution_count": null,
   "id": "d9e5178a",
   "metadata": {},
   "outputs": [],
   "source": [
    "import base64\n",
    "image_path_1 = \"images/minime/1.png\"\n",
    "image_path_2 = \"images/minime/2.png\"\n",
    "with open(image_path_1, \"rb\") as img_file:\n",
    "    image_data_1 = base64.b64encode(img_file.read()).decode('utf-8')\n",
    "with open(image_path_2, \"rb\") as img_file:\n",
    "    image_data_2 = base64.b64encode(img_file.read()).decode('utf-8')\n"
   ]
  },
  {
   "cell_type": "code",
   "execution_count": null,
   "id": "2eec636d",
   "metadata": {},
   "outputs": [],
   "source": [
    "import cv2\n",
    "import numpy as np\n",
    "idata1 = base64.b64decode(image_data_1)\n",
    "cv2.imdecode(np.frombuffer(idata1, np.uint8), cv2.IMREAD_COLOR)\n"
   ]
  }
 ],
 "metadata": {
  "kernelspec": {
   "display_name": "stat-parser",
   "language": "python",
   "name": "python3"
  },
  "language_info": {
   "codemirror_mode": {
    "name": "ipython",
    "version": 3
   },
   "file_extension": ".py",
   "mimetype": "text/x-python",
   "name": "python",
   "nbconvert_exporter": "python",
   "pygments_lexer": "ipython3",
   "version": "3.11.10"
  }
 },
 "nbformat": 4,
 "nbformat_minor": 5
}
