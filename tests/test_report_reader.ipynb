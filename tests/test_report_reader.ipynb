{
 "cells": [
  {
   "cell_type": "code",
   "execution_count": null,
   "id": "e76decf6",
   "metadata": {},
   "outputs": [],
   "source": [
    "from rapidocr_onnxruntime import RapidOCR\n",
    "import cv2\n",
    "import numpy as np\n",
    "import os\n",
    "import matplotlib.pyplot as plt\n",
    "\n",
    "if os.getcwd().endswith(\"tests\"):\n",
    "    os.chdir(\"..\")\n"
   ]
  },
  {
   "cell_type": "code",
   "execution_count": null,
   "id": "05561470",
   "metadata": {},
   "outputs": [],
   "source": [
    "rapidocr_reader = RapidOCR()\n"
   ]
  },
  {
   "cell_type": "code",
   "execution_count": null,
   "id": "8b6d8c1c",
   "metadata": {},
   "outputs": [],
   "source": [
    "from typing import Tuple, List, Union, Any\n",
    "def normalize_rapidocr_result(result: Tuple[List[List[Union[List[List[float]], str, float]]], Any]) -> List[Tuple[List[List[float]], str, float]]:\n",
    "    \"\"\"Normalize RapidOCR result to match EasyOCR format.\"\"\"\n",
    "    if result[0] is None:\n",
    "        return []\n",
    "    # Extract the first element which contains the detections\n",
    "    detections = result[0]\n",
    "    # Convert each detection to match EasyOCR format\n",
    "    normalized = []\n",
    "    for detection in detections:\n",
    "        # detection is [bbox, text, confidence]\n",
    "        bbox = detection[0]  # Already in the correct format\n",
    "        text = detection[1]  # String\n",
    "        confidence = detection[2]  # Float\n",
    "        normalized.append((bbox, text, confidence))\n",
    "    return normalized\n",
    "\n",
    "def process_images(folder_path, verbose = False) -> list[Any]:\n",
    "\n",
    "    imgdata = [[open(os.path.join(folder_path, img_path), \"rb\").read(), print(f\"Loading image {img_path}...\") if verbose else \"\"][0] for img_path in sorted(os.listdir(folder_path)) if img_path.endswith(\".png\") or img_path.endswith(\".jpg\") or img_path.endswith(\".jpeg\")]\n",
    "    images_loaded = [cv2.imdecode(np.frombuffer(data, np.uint8), cv2.IMREAD_COLOR) for data in imgdata]\n",
    "    \n",
    "    images_text = []\n",
    "    for i, img in enumerate(images_loaded):\n",
    "        images_text.append(normalize_rapidocr_result(rapidocr_reader(img)))\n",
    "        if verbose: \n",
    "            print(f\"Processed image #{i} with {len(images_text[-1])} text boxes.\")\n",
    "    \n",
    "    return images_text\n"
   ]
  },
  {
   "cell_type": "code",
   "execution_count": null,
   "id": "79665514",
   "metadata": {},
   "outputs": [],
   "source": [
    "report_dir = \"./images/test_battle_report/\"\n",
    "text_in_images = process_images(report_dir, verbose = True)\n"
   ]
  },
  {
   "cell_type": "code",
   "execution_count": null,
   "id": "3da05a9b",
   "metadata": {},
   "outputs": [],
   "source": [
    "for entry in text_in_images[0]:\n",
    "    print(entry[-2:]) # prints text and confidence only\n"
   ]
  },
  {
   "cell_type": "code",
   "execution_count": null,
   "id": "56427b5c",
   "metadata": {},
   "outputs": [],
   "source": [
    "def load_images(folder_path: str, verbose = False) -> list[np.ndarray]:\n",
    "    imgdata = [[open(os.path.join(folder_path, img_path), \"rb\").read(), print(f\"Loading image {img_path}...\") if verbose else \"\"][0] for img_path in sorted(os.listdir(folder_path)) if img_path.endswith(\".png\") or img_path.endswith(\".jpg\") or img_path.endswith(\".jpeg\")]\n",
    "    images_loaded = [cv2.imdecode(np.frombuffer(data, np.uint8), cv2.IMREAD_COLOR) for data in imgdata]\n",
    "    return images_loaded\n"
   ]
  },
  {
   "cell_type": "code",
   "execution_count": null,
   "id": "f3e6198a",
   "metadata": {},
   "outputs": [],
   "source": [
    "# Locate if a string is in the image\n",
    "def str_in_image_from_images_list(text_in_images: list[list[str]], text_to_find: str) -> tuple[int, list]:\n",
    "    \"\"\"\n",
    "    Processes a list of images to find the one containing the \"Stat\" text.\n",
    "    Returns the first image that contains the text \"Stat\".\n",
    "    \"\"\"\n",
    "    text_to_find = text_to_find.lower()\n",
    "    for i, image_text in enumerate(text_in_images):\n",
    "        for found_string in image_text:\n",
    "            if isinstance(found_string, tuple):\n",
    "                found_string = found_string[1]\n",
    "            found_string = str(found_string).lower()\n",
    "            if found_string.__contains__(text_to_find):\n",
    "                print(f\"Found '{text_to_find}' in image # {i}\")\n",
    "                return i, image_text\n",
    "    raise ValueError(f\"{text_to_find} page not found.\")\n"
   ]
  },
  {
   "cell_type": "code",
   "execution_count": null,
   "id": "cc74e083",
   "metadata": {},
   "outputs": [],
   "source": [
    "\n",
    "text_only = [[entry[1] for entry in all_text] for all_text in text_in_images]\n",
    "resp = str_in_image_from_images_list(text_only, \"Battle Overview\")\n"
   ]
  },
  {
   "cell_type": "code",
   "execution_count": null,
   "id": "c89debf5",
   "metadata": {},
   "outputs": [],
   "source": [
    "from src.utils import handle_split_boxes\n",
    "\n",
    "images = load_images(report_dir)\n",
    "string_to_find = \"Battle Overview\"\n",
    "# Display the image with \"Stat\" text\n",
    "img_idx, stats_image_text = str_in_image_from_images_list(text_in_images, string_to_find)\n",
    "print(f\"Image index with '{string_to_find}': {img_idx}\" + f\" and text: {stats_image_text}\")\n",
    "\n",
    "stats_image_text = handle_split_boxes(stats_image_text)\n",
    "\n",
    "# Make matplotlib frame larger\n",
    "plt.figure(figsize=(10, 10))\n",
    "\n",
    "# Plot every bbox identified on the image, and print the text and confidence for each bbox\n",
    "for bbox in stats_image_text:\n",
    "    if isinstance(bbox, tuple):\n",
    "        text, confidence = bbox[1], bbox[2]\n",
    "        print(f\"Text: {text}, Confidence: {confidence}\")\n",
    "        # Draw the bounding box on the image\n",
    "        cv2.rectangle(images[img_idx], (int(bbox[0][0][0]), int(bbox[0][0][1])),\n",
    "                      (int(bbox[0][2][0]), int(bbox[0][2][1])), (255, 0, 0), 2)\n",
    "        # Put the text on the image\n",
    "        cv2.putText(images[img_idx], text, (int(bbox[0][0][0]), int(bbox[0][0][1]) - 10),\n",
    "                    cv2.FONT_HERSHEY_SIMPLEX, 0.5, (0, 0, 0), 1)\n",
    "plt.imshow(cv2.cvtColor(images[img_idx], cv2.COLOR_BGR2RGB))\n",
    "plt.axis('off')\n"
   ]
  },
  {
   "cell_type": "code",
   "execution_count": null,
   "id": "106c92e0",
   "metadata": {},
   "outputs": [],
   "source": [
    "def read_outcome(text_in_image: list[str]) -> dict:\n",
    "    \"\"\"\n",
    "    Reads the battle outcome values from the text in the image and returns a dictionary with the troop counts.\n",
    "    \"\"\"\n",
    "    troops_count_dict = {\n",
    "        \"left\": {\n",
    "            \"initial_troops\": 0,\n",
    "            \"losses\": 0,\n",
    "            \"injured\": 0,\n",
    "            \"lightly_injured\": 0,\n",
    "            \"survivors\": 0\n",
    "        },\n",
    "        \"right\": {\n",
    "            \"initial_troops\": 0,\n",
    "            \"losses\": 0,\n",
    "            \"injured\": 0,\n",
    "            \"lightly_injured\": 0,\n",
    "            \"survivors\": 0\n",
    "        }\n",
    "    }\n",
    "    format_map = str.maketrans(\n",
    "        {\n",
    "            \"%\": \"\",\n",
    "            \"+\": \"\",\n",
    "            \",\": \"\",\n",
    "            \"o\": \"0\",\n",
    "            \"O\": \"0\",\n",
    "        }\n",
    "    )\n",
    "    \n",
    "    for i, text in enumerate(text_in_image):\n",
    "        if isinstance(text, tuple):\n",
    "            text = text[1]\n",
    "        text = str(text).strip().lower()\n",
    "        if text.__contains__(\"troops\"):\n",
    "            troops_count_dict[\"left\"][\"initial_troops\"] = int(str(text_in_image[i-1][1]).strip().translate(format_map))\n",
    "            troops_count_dict[\"right\"][\"initial_troops\"] = int(str(text_in_image[i+1][1]).strip().translate(format_map))\n",
    "        elif text.__contains__(\"losses\"):\n",
    "            troops_count_dict[\"left\"][\"losses\"] = int(str(text_in_image[i-1][1]).strip().translate(format_map))\n",
    "            troops_count_dict[\"right\"][\"losses\"] = int(str(text_in_image[i+1][1]).strip().translate(format_map))\n",
    "        elif text.__contains__(\"injured\") and not text.__contains__(\"lightly\"):\n",
    "            troops_count_dict[\"left\"][\"injured\"] = int(str(text_in_image[i-1][1]).strip().translate(format_map))\n",
    "            troops_count_dict[\"right\"][\"injured\"] = int(str(text_in_image[i+1][1]).strip().translate(format_map))\n",
    "        elif text.__contains__(\"lightly injured\"):\n",
    "            troops_count_dict[\"left\"][\"lightly_injured\"] = int(str(text_in_image[i-1][1]).strip().translate(format_map))\n",
    "            troops_count_dict[\"right\"][\"lightly_injured\"] = int(str(text_in_image[i+1][1]).strip().translate(format_map))\n",
    "        elif text.__contains__(\"survivors\"):\n",
    "            troops_count_dict[\"left\"][\"survivors\"] = int(str(text_in_image[i-1][1]).strip().translate(format_map))\n",
    "            troops_count_dict[\"right\"][\"survivors\"] = int(str(text_in_image[i+1][1]).strip().translate(format_map))\n",
    "\n",
    "    return troops_count_dict\n"
   ]
  },
  {
   "cell_type": "code",
   "execution_count": null,
   "id": "229de058",
   "metadata": {},
   "outputs": [],
   "source": [
    "output = read_outcome(stats_image_text)\n"
   ]
  },
  {
   "cell_type": "code",
   "execution_count": null,
   "id": "8c160e68",
   "metadata": {},
   "outputs": [],
   "source": [
    "output\n"
   ]
  }
 ],
 "metadata": {
  "kernelspec": {
   "display_name": "stat-parser",
   "language": "python",
   "name": "python3"
  },
  "language_info": {
   "codemirror_mode": {
    "name": "ipython",
    "version": 3
   },
   "file_extension": ".py",
   "mimetype": "text/x-python",
   "name": "python",
   "nbconvert_exporter": "python",
   "pygments_lexer": "ipython3",
   "version": "3.11.10"
  }
 },
 "nbformat": 4,
 "nbformat_minor": 5
}
