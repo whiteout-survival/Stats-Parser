{
 "cells": [
  {
   "cell_type": "code",
   "execution_count": null,
   "id": "e76decf6",
   "metadata": {},
   "outputs": [],
   "source": [
    "import easyocr\n",
    "import cv2\n",
    "import numpy as np\n",
    "import os\n",
    "import matplotlib.pyplot as plt\n",
    "\n",
    "if os.getcwd().endswith(\"tests\"):\n",
    "    os.chdir(\"..\")\n",
    "\n",
    "reader = easyocr.Reader(['en']) # 'en' for English\n"
   ]
  },
  {
   "cell_type": "code",
   "execution_count": 5,
   "id": "3dd41e98",
   "metadata": {},
   "outputs": [],
   "source": [
    "def read_image(image_path):\n",
    "    \"\"\"\n",
    "    Reads an image from the specified path and returns it as a numpy array.\n",
    "    \"\"\"\n",
    "    image = cv2.imread(image_path)\n",
    "    if image is None:\n",
    "        raise ValueError(f\"Image at {image_path} could not be read.\")\n",
    "    return image\n"
   ]
  },
  {
   "cell_type": "code",
   "execution_count": null,
   "id": "79665514",
   "metadata": {},
   "outputs": [],
   "source": [
    "report_dir = \"./images/test_battle_report/\"\n",
    "filename_list = sorted(os.listdir(report_dir))\n",
    "images = [read_image(os.path.join(report_dir, filename)) for filename in filename_list if filename.endswith(('.jpg', '.png'))]\n",
    "text_in_images = [reader.readtext(image) for image in images]\n"
   ]
  },
  {
   "cell_type": "code",
   "execution_count": null,
   "id": "3da05a9b",
   "metadata": {},
   "outputs": [],
   "source": [
    "print(text_in_images[12])\n"
   ]
  },
  {
   "cell_type": "code",
   "execution_count": null,
   "id": "a9b7c1c8",
   "metadata": {},
   "outputs": [],
   "source": [
    "filename_list\n"
   ]
  },
  {
   "cell_type": "code",
   "execution_count": null,
   "id": "4344a942",
   "metadata": {},
   "outputs": [],
   "source": [
    "print(text_in_images[12])\n",
    "print(any([str(txt).lower().__contains__(\"stat\") for txt in text_in_images[12]]))\n"
   ]
  },
  {
   "cell_type": "code",
   "execution_count": null,
   "id": "57db42d2",
   "metadata": {},
   "outputs": [],
   "source": [
    "for line in text_in_images[12]:\n",
    "    print(line)\n"
   ]
  },
  {
   "cell_type": "code",
   "execution_count": null,
   "id": "f3e6198a",
   "metadata": {},
   "outputs": [],
   "source": [
    "# Locate if \"Stat\" is in the image\n",
    "def stats_image_from_images_list(text_in_images: list[list[str]]) -> tuple[int, list]:\n",
    "    \"\"\"\n",
    "    Processes a list of images to find the one containing the \"Stat\" text.\n",
    "    Returns the first image that contains the text \"Stat\".\n",
    "    \"\"\"\n",
    "    for i, image_text in enumerate(text_in_images):\n",
    "        for found_string in image_text:\n",
    "            if isinstance(found_string, tuple):\n",
    "                found_string = found_string[1]\n",
    "            found_string = str(found_string).lower()\n",
    "            if found_string.__contains__(\"stat\"):\n",
    "                print(f\"Found 'stat' in image: {found_string}\")\n",
    "                return i, image_text\n",
    "    raise ValueError(\"Stat page not found.\")\n"
   ]
  },
  {
   "cell_type": "code",
   "execution_count": null,
   "id": "d6b9003b",
   "metadata": {},
   "outputs": [],
   "source": [
    "KEYS = [    \n",
    "    \"Infantry Attack\", \"Infantry Defense\", \"Infantry Lethality\", \"Infantry Health\",\n",
    "    \"Lancer Attack\", \"Lancer Defense\", \"Lancer Lethality\", \"Lancer Health\",\n",
    "    \"Marksman Attack\", \"Marksman Defense\", \"Marksman Lethality\", \"Marksman Health\"\n",
    "]\n"
   ]
  },
  {
   "cell_type": "code",
   "execution_count": null,
   "id": "e35b4cd9",
   "metadata": {},
   "outputs": [],
   "source": [
    "def read_stats(text_in_image: list[str]) -> dict:\n",
    "    \"\"\"\n",
    "    Reads the stats from the text in the image and returns a dictionary with the stats.\n",
    "    \"\"\"\n",
    "    stats_dict = {\n",
    "        \"left\": {\n",
    "            \"infantry\": [0.0, 0.0, 0.0, 0.0],\n",
    "            \"lancer\": [0.0, 0.0, 0.0, 0.0],\n",
    "            \"marksman\": [0.0, 0.0, 0.0, 0.0]\n",
    "        },\n",
    "        \"right\": {\n",
    "            \"infantry\": [0.0, 0.0, 0.0, 0.0],\n",
    "            \"lancer\": [0.0, 0.0, 0.0, 0.0],\n",
    "            \"marksman\": [0.0, 0.0, 0.0, 0.0]\n",
    "        }\n",
    "    }\n",
    "    \n",
    "    for i, text in enumerate(text_in_image):\n",
    "        if isinstance(text, tuple):\n",
    "            text = text[1]\n",
    "        text = str(text).strip().lower()\n",
    "        if text.__contains__(\"infantry attack\"):\n",
    "            stats_dict[\"left\"][\"infantry\"][0] = float(str(text_in_image[i-1][1]).strip().replace(\"%\", \"\").replace(\"+\", \"\"))\n",
    "            stats_dict[\"right\"][\"infantry\"][0] = float(str(text_in_image[i+1][1]).strip().replace(\"%\", \"\").replace(\"+\", \"\"))\n",
    "        elif text.__contains__(\"infantry defense\"):\n",
    "            stats_dict[\"left\"][\"infantry\"][1] = float(str(text_in_image[i-1][1]).strip().replace(\"%\", \"\").replace(\"+\", \"\"))\n",
    "            stats_dict[\"right\"][\"infantry\"][1] = float(str(text_in_image[i+1][1]).strip().replace(\"%\", \"\").replace(\"+\", \"\"))\n",
    "        elif text.__contains__(\"infantry lethality\"):\n",
    "            stats_dict[\"left\"][\"infantry\"][2] = float(str(text_in_image[i-1][1]).strip().replace(\"%\", \"\").replace(\"+\", \"\"))\n",
    "            stats_dict[\"right\"][\"infantry\"][2] = float(str(text_in_image[i+1][1]).strip().replace(\"%\", \"\").replace(\"+\", \"\"))\n",
    "        elif text.__contains__(\"infantry health\"):\n",
    "            stats_dict[\"left\"][\"infantry\"][3] = float(str(text_in_image[i-1][1]).strip().replace(\"%\", \"\").replace(\"+\", \"\"))\n",
    "            stats_dict[\"right\"][\"infantry\"][3] = float(str(text_in_image[i+1][1]).strip().replace(\"%\", \"\").replace(\"+\", \"\"))\n",
    "        elif text.__contains__(\"lancer attack\"):\n",
    "            stats_dict[\"left\"][\"lancer\"][0] = float(str(text_in_image[i-1][1]).strip().replace(\"%\", \"\").replace(\"+\", \"\"))\n",
    "            stats_dict[\"right\"][\"lancer\"][0] = float(str(text_in_image[i+1][1]).strip().replace(\"%\", \"\").replace(\"+\", \"\"))\n",
    "        elif text.__contains__(\"lancer defense\"):\n",
    "            stats_dict[\"left\"][\"lancer\"][1] = float(str(text_in_image[i-1][1]).strip().replace(\"%\", \"\").replace(\"+\", \"\"))\n",
    "            stats_dict[\"right\"][\"lancer\"][1] = float(str(text_in_image[i+1][1]).strip().replace(\"%\", \"\").replace(\"+\", \"\"))\n",
    "        elif text.__contains__(\"lancer lethality\"):\n",
    "            stats_dict[\"left\"][\"lancer\"][2] = float(str(text_in_image[i-1][1]).strip().replace(\"%\", \"\").replace(\"+\", \"\"))\n",
    "            stats_dict[\"right\"][\"lancer\"][2] = float(str(text_in_image[i+1][1]).strip().replace(\"%\", \"\").replace(\"+\", \"\"))\n",
    "        elif text.__contains__(\"lancer health\"):\n",
    "            stats_dict[\"left\"][\"lancer\"][3] = float(str(text_in_image[i-1][1]).strip().replace(\"%\", \"\").replace(\"+\", \"\"))\n",
    "            stats_dict[\"right\"][\"lancer\"][3] = float(str(text_in_image[i+1][1]).strip().replace(\"%\", \"\").replace(\"+\", \"\"))\n",
    "        elif text.__contains__(\"marksman attack\"):\n",
    "            stats_dict[\"left\"][\"marksman\"][0] = float(str(text_in_image[i-1][1]).strip().replace(\"%\", \"\").replace(\"+\", \"\"))\n",
    "            stats_dict[\"right\"][\"marksman\"][0] = float(str(text_in_image[i+1][1]).strip().replace(\"%\", \"\").replace(\"+\", \"\"))\n",
    "        elif text.__contains__(\"marksman defense\"):\n",
    "            stats_dict[\"left\"][\"marksman\"][1] = float(str(text_in_image[i-1][1]).strip().replace(\"%\", \"\").replace(\"+\", \"\"))\n",
    "            stats_dict[\"right\"][\"marksman\"][1] = float(str(text_in_image[i+1][1]).strip().replace(\"%\", \"\").replace(\"+\", \"\"))\n",
    "        elif text.__contains__(\"marksman lethality\"):\n",
    "            stats_dict[\"left\"][\"marksman\"][2] = float(str(text_in_image[i-1][1]).strip().replace(\"%\", \"\").replace(\"+\", \"\"))\n",
    "            stats_dict[\"right\"][\"marksman\"][2] = float(str(text_in_image[i+1][1]).strip().replace(\"%\", \"\").replace(\"+\", \"\"))\n",
    "        elif text.__contains__(\"marksman health\"):\n",
    "            stats_dict[\"left\"][\"marksman\"][3] = float(str(text_in_image[i-1][1]).strip().replace(\"%\", \"\").replace(\"+\", \"\"))\n",
    "            stats_dict[\"right\"][\"marksman\"][3] = float(str(text_in_image[i+1][1]).strip().replace(\"%\", \"\").replace(\"+\", \"\"))\n",
    "\n",
    "    return stats_dict\n"
   ]
  },
  {
   "cell_type": "code",
   "execution_count": null,
   "id": "4f3c16d1",
   "metadata": {},
   "outputs": [],
   "source": [
    "from src.utils import handle_split_boxes\n",
    "\n",
    "# Display the image with \"Stat\" text\n",
    "img_idx, stats_image_text = stats_image_from_images_list(text_in_images)\n",
    "print(f\"Image index with 'Stat': {img_idx}\" + f\" and text: {stats_image_text}\")\n",
    "\n",
    "stats_image_text = handle_split_boxes(stats_image_text)\n",
    "\n",
    "# Make matplotlib frame larger\n",
    "plt.figure(figsize=(10, 10))\n",
    "\n",
    "# Plot every bbox identified on the image, and print the text and confidence for each bbox\n",
    "for bbox in stats_image_text:\n",
    "    if isinstance(bbox, tuple):\n",
    "        text, confidence = bbox[1], bbox[2]\n",
    "        print(f\"Text: {text}, Confidence: {confidence}\")\n",
    "        # Draw the bounding box on the image\n",
    "        cv2.rectangle(images[img_idx], (int(bbox[0][0][0]), int(bbox[0][0][1])),\n",
    "                      (int(bbox[0][2][0]), int(bbox[0][2][1])), (255, 0, 0), 2)\n",
    "        # Put the text on the image\n",
    "        cv2.putText(images[img_idx], text, (int(bbox[0][0][0]), int(bbox[0][0][1]) - 10),\n",
    "                    cv2.FONT_HERSHEY_SIMPLEX, 0.5, (255, 255, 255), 1)\n",
    "plt.imshow(cv2.cvtColor(images[img_idx], cv2.COLOR_BGR2RGB))\n",
    "plt.axis('off')\n"
   ]
  },
  {
   "cell_type": "code",
   "execution_count": null,
   "id": "36456a1c",
   "metadata": {},
   "outputs": [],
   "source": [
    "stats = read_stats(stats_image_text)\n",
    "print(stats)\n"
   ]
  },
  {
   "cell_type": "code",
   "execution_count": null,
   "id": "8177c39f",
   "metadata": {},
   "outputs": [],
   "source": [
    "import time\n",
    "start = time.time()\n",
    "last = start\n",
    "print(f\"Starting: {start:.2f}s\")\n",
    "b = ['../images/test_battle_report/8.png', '../images/test_battle_report/9.png', '../images/test_battle_report/14.png', '../images/test_battle_report/15.png', '../images/test_battle_report/17.png', '../images/test_battle_report/16.png', '../images/test_battle_report/12.png', '../images/test_battle_report/13.png', '../images/test_battle_report/11.png', '../images/test_battle_report/10.png', '../images/test_battle_report/18.png', '../images/test_battle_report/19.png', '../images/test_battle_report/4.png', '../images/test_battle_report/5.png', '../images/test_battle_report/7.png', '../images/test_battle_report/6.png', '../images/test_battle_report/2.png', '../images/test_battle_report/3.png', '../images/test_battle_report/1.png']\n",
    "paths = [a[1:] for a in b]\n",
    "\n",
    "images_data = [open(filepath, \"rb\").read() for filepath in paths]\n",
    "last = time.time()\n",
    "print(f\"Finish loading images: {last - start:.2f}s\")\n",
    "\n",
    "images = [cv2.imdecode(np.frombuffer(data, np.uint8), cv2.IMREAD_COLOR) for data in images_data]\n",
    "last = time.time()\n",
    "print(f\"Finish decoding images: {last - start:.2f}s\")\n",
    "\n",
    "images_text = [reader.readtext(img) for img in images]\n",
    "last = time.time()\n",
    "print(f\"Finish OCR Reading images: {last - start:.2f}s\")\n"
   ]
  },
  {
   "cell_type": "code",
   "execution_count": null,
   "id": "d244c9e9",
   "metadata": {},
   "outputs": [],
   "source": [
    "\n",
    "def stats_image_from_images_list(text_in_images: list[list[str]]) -> tuple[int, list]:\n",
    "    \"\"\"\n",
    "    Processes a list of images to find the one containing the \"Stat\" text.\n",
    "    Returns the first image that contains the text \"Stat\".\n",
    "    \"\"\"\n",
    "    for i, image_text in enumerate(text_in_images):\n",
    "        is_special_bonuses_page = False\n",
    "        is_stats_page = False\n",
    "        for found_string in image_text:\n",
    "            if isinstance(found_string, tuple):\n",
    "                found_string = found_string[1]\n",
    "            found_string = str(found_string).lower()\n",
    "            if found_string.__contains__(\"stat\"):\n",
    "                print(f\"Found 'stat' in image{i}: {found_string}\")\n",
    "                is_stats_page = True\n",
    "            if found_string.__contains__(\"special\") or \\\n",
    "                found_string.__contains__(\"enemy\"):\n",
    "                is_special_bonuses_page = True\n",
    "                print(f\"Special bonus page({i}): {found_string}\")\n",
    "                break\n",
    "        if is_stats_page:\n",
    "            if not is_special_bonuses_page:\n",
    "                return i, image_text\n",
    "    raise ValueError(\"Stat page not found.\")\n"
   ]
  },
  {
   "cell_type": "code",
   "execution_count": null,
   "id": "f99bff8c",
   "metadata": {},
   "outputs": [],
   "source": [
    "from src.battle_report import read_stats\n",
    "from src.utils import handle_split_boxes\n",
    "def get_battle_report_stats(images_text: list[list]) -> dict[str, dict[str, list[float]]]:\n",
    "    img_idx, stats_image_text = stats_image_from_images_list(images_text)\n",
    "    print(f\"Stats found in image {img_idx}. Contents: {stats_image_text}\")\n",
    "    stats_image_text = handle_split_boxes(stats_image_text)\n",
    "    stats = read_stats(stats_image_text)\n",
    "    return img_idx, stats_image_text, stats\n",
    "img_idx, stats_page, stats = get_battle_report_stats(images_text)\n"
   ]
  },
  {
   "cell_type": "code",
   "execution_count": null,
   "id": "2cb9b35f",
   "metadata": {},
   "outputs": [],
   "source": [
    "for line in stats_page:\n",
    "    print(line[-2])\n"
   ]
  },
  {
   "cell_type": "code",
   "execution_count": null,
   "id": "dfcd7002",
   "metadata": {},
   "outputs": [],
   "source": [
    "stats\n"
   ]
  }
 ],
 "metadata": {
  "kernelspec": {
   "display_name": "ryo-formatting (3.11.10)",
   "language": "python",
   "name": "python3"
  },
  "language_info": {
   "codemirror_mode": {
    "name": "ipython",
    "version": 3
   },
   "file_extension": ".py",
   "mimetype": "text/x-python",
   "name": "python",
   "nbconvert_exporter": "python",
   "pygments_lexer": "ipython3",
   "version": "3.11.10"
  }
 },
 "nbformat": 4,
 "nbformat_minor": 5
}
